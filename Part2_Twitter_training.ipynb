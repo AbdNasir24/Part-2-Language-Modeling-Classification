{
  "nbformat": 4,
  "nbformat_minor": 0,
  "metadata": {
    "colab": {
      "provenance": [],
      "authorship_tag": "ABX9TyNajkeorVSM1IoJyM9Vni4/",
      "include_colab_link": true
    },
    "kernelspec": {
      "name": "python3",
      "display_name": "Python 3"
    },
    "language_info": {
      "name": "python"
    }
  },
  "cells": [
    {
      "cell_type": "markdown",
      "metadata": {
        "id": "view-in-github",
        "colab_type": "text"
      },
      "source": [
        "<a href=\"https://colab.research.google.com/github/AbdNasir24/Atelier-2-NLP/blob/main/Part2_Twitter_training.ipynb\" target=\"_parent\"><img src=\"https://colab.research.google.com/assets/colab-badge.svg\" alt=\"Open In Colab\"/></a>"
      ]
    },
    {
      "cell_type": "markdown",
      "source": [
        "**Section 1: Loading the Dataset and Preprocessing**"
      ],
      "metadata": {
        "id": "LAoGjE67g39z"
      }
    },
    {
      "cell_type": "markdown",
      "source": [
        "**A_ Import Libraries**"
      ],
      "metadata": {
        "id": "QntTeV0zg0Qw"
      }
    },
    {
      "cell_type": "code",
      "execution_count": 5,
      "metadata": {
        "colab": {
          "base_uri": "https://localhost:8080/"
        },
        "id": "9Y1tfcJ2bedU",
        "outputId": "2546c35c-f219-4dbb-e7d7-5e53594ca4d9"
      },
      "outputs": [
        {
          "output_type": "stream",
          "name": "stderr",
          "text": [
            "[nltk_data] Downloading package punkt to /root/nltk_data...\n",
            "[nltk_data]   Package punkt is already up-to-date!\n",
            "[nltk_data] Downloading package stopwords to /root/nltk_data...\n",
            "[nltk_data]   Package stopwords is already up-to-date!\n"
          ]
        },
        {
          "output_type": "execute_result",
          "data": {
            "text/plain": [
              "True"
            ]
          },
          "metadata": {},
          "execution_count": 5
        }
      ],
      "source": [
        "import pandas as pd\n",
        "import numpy as np\n",
        "from nltk.tokenize import word_tokenize\n",
        "from nltk.corpus import stopwords\n",
        "from nltk.stem import PorterStemmer\n",
        "import nltk\n",
        "nltk.download('punkt')\n",
        "nltk.download('stopwords')\n",
        "\n",
        "\n"
      ]
    },
    {
      "cell_type": "markdown",
      "source": [
        "**B_Load the Dataset**"
      ],
      "metadata": {
        "id": "2j8Trl8tg_M3"
      }
    },
    {
      "cell_type": "code",
      "source": [
        "# Load the dataset\n",
        "df = pd.read_csv(\"/twitter_training.csv\")\n",
        "\n",
        "# Display the first few rows of the dataframe to verify the data\n",
        "print(df.head())"
      ],
      "metadata": {
        "colab": {
          "base_uri": "https://localhost:8080/"
        },
        "id": "kjzUV451cI_B",
        "outputId": "109560f2-9459-4dd4-e7dd-db2f8b908249"
      },
      "execution_count": 13,
      "outputs": [
        {
          "output_type": "stream",
          "name": "stdout",
          "text": [
            "   2401  Borderlands  Positive  \\\n",
            "0  2401  Borderlands  Positive   \n",
            "1  2401  Borderlands  Positive   \n",
            "2  2401  Borderlands  Positive   \n",
            "3  2401  Borderlands  Positive   \n",
            "4  2401  Borderlands  Positive   \n",
            "\n",
            "  im getting on borderlands and i will murder you all ,  \n",
            "0  I am coming to the borders and I will kill you...     \n",
            "1  im getting on borderlands and i will kill you ...     \n",
            "2  im coming on borderlands and i will murder you...     \n",
            "3  im getting on borderlands 2 and i will murder ...     \n",
            "4  im getting into borderlands and i can murder y...     \n"
          ]
        }
      ]
    },
    {
      "cell_type": "code",
      "source": [
        "print(df.columns)"
      ],
      "metadata": {
        "colab": {
          "base_uri": "https://localhost:8080/"
        },
        "id": "fTwG0dkKdIHV",
        "outputId": "01f538ae-7642-4e65-d6d4-441e47c32b16"
      },
      "execution_count": 14,
      "outputs": [
        {
          "output_type": "stream",
          "name": "stdout",
          "text": [
            "Index(['2401', 'Borderlands', 'Positive',\n",
            "       'im getting on borderlands and i will murder you all ,'],\n",
            "      dtype='object')\n"
          ]
        }
      ]
    },
    {
      "cell_type": "markdown",
      "source": [
        "**C_Preprocessing Function**"
      ],
      "metadata": {
        "id": "DDdShyKghGvP"
      }
    },
    {
      "cell_type": "code",
      "source": [
        "# Preprocessing\n",
        "def preprocess_text(text):\n",
        "    tokens = word_tokenize(text.lower())  # Tokenization and lowercasing\n",
        "    tokens = [token for token in tokens if token.isalpha()]  # Remove non-alphabetic tokens\n",
        "    stop_words = set(stopwords.words('english'))\n",
        "    tokens = [token for token in tokens if token not in stop_words]  # Remove stopwords\n",
        "    stemmer = PorterStemmer()\n",
        "    tokens = [stemmer.stem(token) for token in tokens]  # Stemming\n",
        "    return \" \".join(tokens)\n",
        "\n",
        "df['processed_text'] = df['Positive'].apply(preprocess_text)"
      ],
      "metadata": {
        "id": "bpY6qx8TdH_t"
      },
      "execution_count": 19,
      "outputs": []
    },
    {
      "cell_type": "markdown",
      "source": [
        "**Section 2: Splitting the Data into Train and Test Sets**"
      ],
      "metadata": {
        "id": "A1HY_mUvePe6"
      }
    },
    {
      "cell_type": "code",
      "source": [
        "from sklearn.model_selection import train_test_split\n",
        "\n",
        "X_train, X_test, y_train, y_test = train_test_split(df['processed_text'], df['Positive'], test_size=0.2, random_state=42)\n"
      ],
      "metadata": {
        "id": "5BdH2IRrd1Y1"
      },
      "execution_count": 21,
      "outputs": []
    },
    {
      "cell_type": "markdown",
      "source": [
        "**Section 3: Encoding Data Vectors**"
      ],
      "metadata": {
        "id": "TfJFbnn2gCP-"
      }
    },
    {
      "cell_type": "code",
      "source": [
        "from sklearn.feature_extraction.text import CountVectorizer, TfidfVectorizer\n",
        "from gensim.models import Word2Vec\n",
        "\n",
        "# Using Word2Vec\n",
        "sentences = [word_tokenize(text) for text in X_train]\n",
        "word2vec_model = Word2Vec(sentences, vector_size=100, window=5, min_count=1, workers=4)\n",
        "X_train_word2vec = np.array([np.mean([word2vec_model.wv[word] for word in words if word in word2vec_model.wv] or [np.zeros(100)], axis=0) for words in sentences])\n",
        "\n",
        "# Using Bag of Words (BoW)\n",
        "vectorizer_bow = CountVectorizer()\n",
        "X_train_bow = vectorizer_bow.fit_transform(X_train)\n",
        "\n",
        "# Using TF-IDF\n",
        "vectorizer_tfidf = TfidfVectorizer()\n",
        "X_train_tfidf = vectorizer_tfidf.fit_transform(X_train)\n"
      ],
      "metadata": {
        "id": "V84wn7Uqd1b0"
      },
      "execution_count": 22,
      "outputs": []
    },
    {
      "cell_type": "markdown",
      "source": [
        "**Section 4: Training the Models**"
      ],
      "metadata": {
        "id": "BxfJr7LegTmW"
      }
    },
    {
      "cell_type": "code",
      "source": [
        "from sklearn.svm import SVC\n",
        "from sklearn.naive_bayes import MultinomialNB\n",
        "from sklearn.linear_model import LogisticRegression\n",
        "from sklearn.ensemble import AdaBoostClassifier\n",
        "\n",
        "# Train the models\n",
        "svm_model = SVC()\n",
        "svm_model.fit(X_train_word2vec, y_train)\n",
        "\n",
        "nb_model = MultinomialNB()\n",
        "nb_model.fit(X_train_bow, y_train)\n",
        "\n",
        "lr_model = LogisticRegression()\n",
        "lr_model.fit(X_train_tfidf, y_train)\n",
        "\n",
        "adaboost_model = AdaBoostClassifier()\n",
        "adaboost_model.fit(X_train_word2vec, y_train)\n"
      ],
      "metadata": {
        "colab": {
          "base_uri": "https://localhost:8080/",
          "height": 75
        },
        "id": "HCenxV5Bd1fL",
        "outputId": "ffc79b44-3466-4ec5-c945-14777f79a1c2"
      },
      "execution_count": 23,
      "outputs": [
        {
          "output_type": "execute_result",
          "data": {
            "text/plain": [
              "AdaBoostClassifier()"
            ],
            "text/html": [
              "<style>#sk-container-id-1 {color: black;background-color: white;}#sk-container-id-1 pre{padding: 0;}#sk-container-id-1 div.sk-toggleable {background-color: white;}#sk-container-id-1 label.sk-toggleable__label {cursor: pointer;display: block;width: 100%;margin-bottom: 0;padding: 0.3em;box-sizing: border-box;text-align: center;}#sk-container-id-1 label.sk-toggleable__label-arrow:before {content: \"▸\";float: left;margin-right: 0.25em;color: #696969;}#sk-container-id-1 label.sk-toggleable__label-arrow:hover:before {color: black;}#sk-container-id-1 div.sk-estimator:hover label.sk-toggleable__label-arrow:before {color: black;}#sk-container-id-1 div.sk-toggleable__content {max-height: 0;max-width: 0;overflow: hidden;text-align: left;background-color: #f0f8ff;}#sk-container-id-1 div.sk-toggleable__content pre {margin: 0.2em;color: black;border-radius: 0.25em;background-color: #f0f8ff;}#sk-container-id-1 input.sk-toggleable__control:checked~div.sk-toggleable__content {max-height: 200px;max-width: 100%;overflow: auto;}#sk-container-id-1 input.sk-toggleable__control:checked~label.sk-toggleable__label-arrow:before {content: \"▾\";}#sk-container-id-1 div.sk-estimator input.sk-toggleable__control:checked~label.sk-toggleable__label {background-color: #d4ebff;}#sk-container-id-1 div.sk-label input.sk-toggleable__control:checked~label.sk-toggleable__label {background-color: #d4ebff;}#sk-container-id-1 input.sk-hidden--visually {border: 0;clip: rect(1px 1px 1px 1px);clip: rect(1px, 1px, 1px, 1px);height: 1px;margin: -1px;overflow: hidden;padding: 0;position: absolute;width: 1px;}#sk-container-id-1 div.sk-estimator {font-family: monospace;background-color: #f0f8ff;border: 1px dotted black;border-radius: 0.25em;box-sizing: border-box;margin-bottom: 0.5em;}#sk-container-id-1 div.sk-estimator:hover {background-color: #d4ebff;}#sk-container-id-1 div.sk-parallel-item::after {content: \"\";width: 100%;border-bottom: 1px solid gray;flex-grow: 1;}#sk-container-id-1 div.sk-label:hover label.sk-toggleable__label {background-color: #d4ebff;}#sk-container-id-1 div.sk-serial::before {content: \"\";position: absolute;border-left: 1px solid gray;box-sizing: border-box;top: 0;bottom: 0;left: 50%;z-index: 0;}#sk-container-id-1 div.sk-serial {display: flex;flex-direction: column;align-items: center;background-color: white;padding-right: 0.2em;padding-left: 0.2em;position: relative;}#sk-container-id-1 div.sk-item {position: relative;z-index: 1;}#sk-container-id-1 div.sk-parallel {display: flex;align-items: stretch;justify-content: center;background-color: white;position: relative;}#sk-container-id-1 div.sk-item::before, #sk-container-id-1 div.sk-parallel-item::before {content: \"\";position: absolute;border-left: 1px solid gray;box-sizing: border-box;top: 0;bottom: 0;left: 50%;z-index: -1;}#sk-container-id-1 div.sk-parallel-item {display: flex;flex-direction: column;z-index: 1;position: relative;background-color: white;}#sk-container-id-1 div.sk-parallel-item:first-child::after {align-self: flex-end;width: 50%;}#sk-container-id-1 div.sk-parallel-item:last-child::after {align-self: flex-start;width: 50%;}#sk-container-id-1 div.sk-parallel-item:only-child::after {width: 0;}#sk-container-id-1 div.sk-dashed-wrapped {border: 1px dashed gray;margin: 0 0.4em 0.5em 0.4em;box-sizing: border-box;padding-bottom: 0.4em;background-color: white;}#sk-container-id-1 div.sk-label label {font-family: monospace;font-weight: bold;display: inline-block;line-height: 1.2em;}#sk-container-id-1 div.sk-label-container {text-align: center;}#sk-container-id-1 div.sk-container {/* jupyter's `normalize.less` sets `[hidden] { display: none; }` but bootstrap.min.css set `[hidden] { display: none !important; }` so we also need the `!important` here to be able to override the default hidden behavior on the sphinx rendered scikit-learn.org. See: https://github.com/scikit-learn/scikit-learn/issues/21755 */display: inline-block !important;position: relative;}#sk-container-id-1 div.sk-text-repr-fallback {display: none;}</style><div id=\"sk-container-id-1\" class=\"sk-top-container\"><div class=\"sk-text-repr-fallback\"><pre>AdaBoostClassifier()</pre><b>In a Jupyter environment, please rerun this cell to show the HTML representation or trust the notebook. <br />On GitHub, the HTML representation is unable to render, please try loading this page with nbviewer.org.</b></div><div class=\"sk-container\" hidden><div class=\"sk-item\"><div class=\"sk-estimator sk-toggleable\"><input class=\"sk-toggleable__control sk-hidden--visually\" id=\"sk-estimator-id-1\" type=\"checkbox\" checked><label for=\"sk-estimator-id-1\" class=\"sk-toggleable__label sk-toggleable__label-arrow\">AdaBoostClassifier</label><div class=\"sk-toggleable__content\"><pre>AdaBoostClassifier()</pre></div></div></div></div></div>"
            ]
          },
          "metadata": {},
          "execution_count": 23
        }
      ]
    },
    {
      "cell_type": "markdown",
      "source": [
        "**Section 5: Predictions and Evaluationt**"
      ],
      "metadata": {
        "id": "U3Av7ko0gcdX"
      }
    },
    {
      "cell_type": "code",
      "source": [
        "from sklearn.metrics import accuracy_score, f1_score, classification_report\n",
        "\n",
        "# Predictions for SVM\n",
        "X_test_word2vec = np.array([np.mean([word2vec_model.wv[word] for word in word_tokenize(text) if word in word2vec_model.wv] or [np.zeros(100)], axis=0) for text in X_test])\n",
        "svm_pred = svm_model.predict(X_test_word2vec)\n",
        "\n",
        "# Predictions for Naive Bayes\n",
        "X_test_bow = vectorizer_bow.transform(X_test)\n",
        "nb_pred = nb_model.predict(X_test_bow)\n",
        "\n",
        "# Predictions for Logistic Regression\n",
        "X_test_tfidf = vectorizer_tfidf.transform(X_test)\n",
        "lr_pred = lr_model.predict(X_test_tfidf)\n",
        "\n",
        "# Predictions for AdaBoost\n",
        "adaboost_pred = adaboost_model.predict(X_test_word2vec)\n",
        "\n",
        "# Evaluate the models\n",
        "svm_accuracy = accuracy_score(y_test, svm_pred)\n",
        "svm_f1 = f1_score(y_test, svm_pred, average='weighted')\n",
        "svm_report = classification_report(y_test, svm_pred)\n",
        "\n",
        "nb_accuracy = accuracy_score(y_test, nb_pred)\n",
        "nb_f1 = f1_score(y_test, nb_pred, average='weighted')\n",
        "nb_report = classification_report(y_test, nb_pred)\n",
        "\n",
        "lr_accuracy = accuracy_score(y_test, lr_pred)\n",
        "lr_f1 = f1_score(y_test, lr_pred, average='weighted')\n",
        "lr_report = classification_report(y_test, lr_pred)\n",
        "\n",
        "adaboost_accuracy = accuracy_score(y_test, adaboost_pred)\n",
        "adaboost_f1 = f1_score(y_test, adaboost_pred, average='weighted')\n",
        "adaboost_report = classification_report(y_test, adaboost_pred)\n"
      ],
      "metadata": {
        "id": "d2clEzF2ggOu"
      },
      "execution_count": 24,
      "outputs": []
    },
    {
      "cell_type": "markdown",
      "source": [
        "**Section 6: Printing the Evaluation Metrics**"
      ],
      "metadata": {
        "id": "rKMnfpyrhwb0"
      }
    },
    {
      "cell_type": "code",
      "source": [
        "print(\"SVM Accuracy:\", svm_accuracy)\n",
        "print(\"SVM F1 Score:\", svm_f1)\n",
        "print(\"SVM Classification Report:\")\n",
        "print(svm_report)\n",
        "\n",
        "print(\"\\nNaive Bayes Accuracy:\", nb_accuracy)\n",
        "print\n"
      ],
      "metadata": {
        "colab": {
          "base_uri": "https://localhost:8080/"
        },
        "id": "END_yPGFggLo",
        "outputId": "df0ba592-b10c-4906-ffc0-4472dce9637f"
      },
      "execution_count": 25,
      "outputs": [
        {
          "output_type": "stream",
          "name": "stdout",
          "text": [
            "SVM Accuracy: 1.0\n",
            "SVM F1 Score: 1.0\n",
            "SVM Classification Report:\n",
            "              precision    recall  f1-score   support\n",
            "\n",
            "  Irrelevant       1.00      1.00      1.00      2661\n",
            "    Negative       1.00      1.00      1.00      4471\n",
            "     Neutral       1.00      1.00      1.00      3551\n",
            "    Positive       1.00      1.00      1.00      4254\n",
            "\n",
            "    accuracy                           1.00     14937\n",
            "   macro avg       1.00      1.00      1.00     14937\n",
            "weighted avg       1.00      1.00      1.00     14937\n",
            "\n",
            "\n",
            "Naive Bayes Accuracy: 1.0\n"
          ]
        },
        {
          "output_type": "execute_result",
          "data": {
            "text/plain": [
              "<function print>"
            ]
          },
          "metadata": {},
          "execution_count": 25
        }
      ]
    }
  ]
}